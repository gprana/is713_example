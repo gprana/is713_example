{
 "cells": [
  {
   "cell_type": "markdown",
   "id": "bb43f65b",
   "metadata": {},
   "source": [
    "# Data Loading\n",
    "We use `pandas` package: https://pandas.pydata.org/docs/index.html\n",
    "\n",
    "Firstly, we can use `pandas.Excelfile()` to load the Excel file"
   ]
  },
  {
   "cell_type": "code",
   "execution_count": 3,
   "id": "9d301e70",
   "metadata": {},
   "outputs": [],
   "source": [
    "import pandas\n",
    "\n",
    "exceldata = pandas.ExcelFile('caschool.xlsx')"
   ]
  },
  {
   "cell_type": "markdown",
   "id": "d7c8336f",
   "metadata": {},
   "source": [
    "Load the Excel data into dataframe for further operations, then show the first 5 rows\n",
    "Here `df` is a `pandas.Dataframe` object:"
   ]
  },
  {
   "cell_type": "code",
   "execution_count": 4,
   "id": "1d140da1",
   "metadata": {},
   "outputs": [
    {
     "name": "stderr",
     "output_type": "stream",
     "text": [
      "C:\\ProgramData\\Anaconda3\\lib\\site-packages\\openpyxl\\worksheet\\_reader.py:300: UserWarning: Unknown extension is not supported and will be removed\n",
      "  warn(msg)\n"
     ]
    },
    {
     "data": {
      "text/html": [
       "<div>\n",
       "<style scoped>\n",
       "    .dataframe tbody tr th:only-of-type {\n",
       "        vertical-align: middle;\n",
       "    }\n",
       "\n",
       "    .dataframe tbody tr th {\n",
       "        vertical-align: top;\n",
       "    }\n",
       "\n",
       "    .dataframe thead th {\n",
       "        text-align: right;\n",
       "    }\n",
       "</style>\n",
       "<table border=\"1\" class=\"dataframe\">\n",
       "  <thead>\n",
       "    <tr style=\"text-align: right;\">\n",
       "      <th></th>\n",
       "      <th>Observation Number</th>\n",
       "      <th>dist_cod</th>\n",
       "      <th>county</th>\n",
       "      <th>district</th>\n",
       "      <th>gr_span</th>\n",
       "      <th>enrl_tot</th>\n",
       "      <th>teachers</th>\n",
       "      <th>calw_pct</th>\n",
       "      <th>meal_pct</th>\n",
       "      <th>computer</th>\n",
       "      <th>testscr</th>\n",
       "      <th>comp_stu</th>\n",
       "      <th>expn_stu</th>\n",
       "      <th>str</th>\n",
       "      <th>avginc</th>\n",
       "      <th>el_pct</th>\n",
       "      <th>read_scr</th>\n",
       "      <th>math_scr</th>\n",
       "    </tr>\n",
       "  </thead>\n",
       "  <tbody>\n",
       "    <tr>\n",
       "      <th>0</th>\n",
       "      <td>1</td>\n",
       "      <td>75119</td>\n",
       "      <td>Alameda</td>\n",
       "      <td>Sunol Glen Unified</td>\n",
       "      <td>KK-08</td>\n",
       "      <td>195</td>\n",
       "      <td>10.900000</td>\n",
       "      <td>0.510200</td>\n",
       "      <td>2.040800</td>\n",
       "      <td>67</td>\n",
       "      <td>690.799988</td>\n",
       "      <td>0.343590</td>\n",
       "      <td>6384.911133</td>\n",
       "      <td>17.889910</td>\n",
       "      <td>22.690001</td>\n",
       "      <td>0.000000</td>\n",
       "      <td>691.599976</td>\n",
       "      <td>690.000000</td>\n",
       "    </tr>\n",
       "    <tr>\n",
       "      <th>1</th>\n",
       "      <td>2</td>\n",
       "      <td>61499</td>\n",
       "      <td>Butte</td>\n",
       "      <td>Manzanita Elementary</td>\n",
       "      <td>KK-08</td>\n",
       "      <td>240</td>\n",
       "      <td>11.150000</td>\n",
       "      <td>15.416700</td>\n",
       "      <td>47.916698</td>\n",
       "      <td>101</td>\n",
       "      <td>661.200012</td>\n",
       "      <td>0.420833</td>\n",
       "      <td>5099.380859</td>\n",
       "      <td>21.524664</td>\n",
       "      <td>9.824000</td>\n",
       "      <td>4.583333</td>\n",
       "      <td>660.500000</td>\n",
       "      <td>661.900024</td>\n",
       "    </tr>\n",
       "    <tr>\n",
       "      <th>2</th>\n",
       "      <td>3</td>\n",
       "      <td>61549</td>\n",
       "      <td>Butte</td>\n",
       "      <td>Thermalito Union Elementary</td>\n",
       "      <td>KK-08</td>\n",
       "      <td>1550</td>\n",
       "      <td>82.900002</td>\n",
       "      <td>55.032299</td>\n",
       "      <td>76.322601</td>\n",
       "      <td>169</td>\n",
       "      <td>643.599976</td>\n",
       "      <td>0.109032</td>\n",
       "      <td>5501.954590</td>\n",
       "      <td>18.697226</td>\n",
       "      <td>8.978000</td>\n",
       "      <td>30.000002</td>\n",
       "      <td>636.299988</td>\n",
       "      <td>650.900024</td>\n",
       "    </tr>\n",
       "    <tr>\n",
       "      <th>3</th>\n",
       "      <td>4</td>\n",
       "      <td>61457</td>\n",
       "      <td>Butte</td>\n",
       "      <td>Golden Feather Union Elementary</td>\n",
       "      <td>KK-08</td>\n",
       "      <td>243</td>\n",
       "      <td>14.000000</td>\n",
       "      <td>36.475399</td>\n",
       "      <td>77.049202</td>\n",
       "      <td>85</td>\n",
       "      <td>647.700012</td>\n",
       "      <td>0.349794</td>\n",
       "      <td>7101.831055</td>\n",
       "      <td>17.357143</td>\n",
       "      <td>8.978000</td>\n",
       "      <td>0.000000</td>\n",
       "      <td>651.900024</td>\n",
       "      <td>643.500000</td>\n",
       "    </tr>\n",
       "    <tr>\n",
       "      <th>4</th>\n",
       "      <td>5</td>\n",
       "      <td>61523</td>\n",
       "      <td>Butte</td>\n",
       "      <td>Palermo Union Elementary</td>\n",
       "      <td>KK-08</td>\n",
       "      <td>1335</td>\n",
       "      <td>71.500000</td>\n",
       "      <td>33.108601</td>\n",
       "      <td>78.427002</td>\n",
       "      <td>171</td>\n",
       "      <td>640.849976</td>\n",
       "      <td>0.128090</td>\n",
       "      <td>5235.987793</td>\n",
       "      <td>18.671329</td>\n",
       "      <td>9.080333</td>\n",
       "      <td>13.857677</td>\n",
       "      <td>641.799988</td>\n",
       "      <td>639.900024</td>\n",
       "    </tr>\n",
       "  </tbody>\n",
       "</table>\n",
       "</div>"
      ],
      "text/plain": [
       "   Observation Number  dist_cod   county                         district  \\\n",
       "0                   1     75119  Alameda               Sunol Glen Unified   \n",
       "1                   2     61499    Butte             Manzanita Elementary   \n",
       "2                   3     61549    Butte      Thermalito Union Elementary   \n",
       "3                   4     61457    Butte  Golden Feather Union Elementary   \n",
       "4                   5     61523    Butte         Palermo Union Elementary   \n",
       "\n",
       "  gr_span  enrl_tot   teachers   calw_pct   meal_pct  computer     testscr  \\\n",
       "0   KK-08       195  10.900000   0.510200   2.040800        67  690.799988   \n",
       "1   KK-08       240  11.150000  15.416700  47.916698       101  661.200012   \n",
       "2   KK-08      1550  82.900002  55.032299  76.322601       169  643.599976   \n",
       "3   KK-08       243  14.000000  36.475399  77.049202        85  647.700012   \n",
       "4   KK-08      1335  71.500000  33.108601  78.427002       171  640.849976   \n",
       "\n",
       "   comp_stu     expn_stu        str     avginc     el_pct    read_scr  \\\n",
       "0  0.343590  6384.911133  17.889910  22.690001   0.000000  691.599976   \n",
       "1  0.420833  5099.380859  21.524664   9.824000   4.583333  660.500000   \n",
       "2  0.109032  5501.954590  18.697226   8.978000  30.000002  636.299988   \n",
       "3  0.349794  7101.831055  17.357143   8.978000   0.000000  651.900024   \n",
       "4  0.128090  5235.987793  18.671329   9.080333  13.857677  641.799988   \n",
       "\n",
       "     math_scr  \n",
       "0  690.000000  \n",
       "1  661.900024  \n",
       "2  650.900024  \n",
       "3  643.500000  \n",
       "4  639.900024  "
      ]
     },
     "execution_count": 4,
     "metadata": {},
     "output_type": "execute_result"
    }
   ],
   "source": [
    "df = exceldata.parse('caschool')\n",
    "# Uncomment the line below to see type of df\n",
    "# print(type(df))\n",
    "\n",
    "# Show the first five rows of the parsed data\n",
    "df.head(5)"
   ]
  },
  {
   "cell_type": "markdown",
   "id": "f2e066c6",
   "metadata": {},
   "source": [
    "# Summary Statistics\n",
    "Summary statistics for some columns. Transpose them and do some conversion to make them more similar to the R version."
   ]
  },
  {
   "cell_type": "code",
   "execution_count": 5,
   "id": "9ba7c763",
   "metadata": {},
   "outputs": [
    {
     "name": "stdout",
     "output_type": "stream",
     "text": [
      "          count        mean        std         min         25%         50%  \\\n",
      "testscr     420  654.156548  19.053348  605.550049  640.049988  654.449982   \n",
      "str         420   19.640425   1.891812   14.000000   18.582360   19.723208   \n",
      "el_pct      420   15.768155  18.285927    0.000000    1.940807    8.777634   \n",
      "meal_pct    420   44.705237  27.123381    0.000000   23.282200   41.750700   \n",
      "calw_pct    420   13.246042  11.454821    0.000000    4.395375   10.520450   \n",
      "\n",
      "                 75%         max      skew  kurtosis  \n",
      "testscr   666.662506  706.750000  0.091944 -0.242919  \n",
      "str        20.871815   25.799999 -0.025457  0.631340  \n",
      "el_pct     22.970003   85.539719  1.431917  1.467060  \n",
      "meal_pct   66.864725  100.000000  0.184614 -0.997384  \n",
      "calw_pct   18.981350   78.994202  1.689099  4.659125  \n"
     ]
    }
   ],
   "source": [
    "df_summary = df[['testscr','str','el_pct','meal_pct','calw_pct']].describe()\n",
    "df_summary = df_summary.transpose()\n",
    "\n",
    "# Compute skewness and kurtosis\n",
    "skew = pandas.DataFrame(df[['testscr','str','el_pct','meal_pct','calw_pct']].skew(skipna = True), columns=['skew'])\n",
    "kurtosis = pandas.DataFrame(df[['testscr','str','el_pct','meal_pct','calw_pct']].kurtosis(skipna = True), columns=['kurtosis'])\n",
    "\n",
    "# Add skew and kurtosis as new columns in summary dataframe\n",
    "df_summary = pandas.concat([df_summary,skew],axis=1)\n",
    "df_summary = pandas.concat([df_summary,kurtosis],axis=1)\n",
    "\n",
    "# rounding of count column to integer\n",
    "df_summary = df_summary.astype({'count':'int32'})\n",
    "# Show the table\n",
    "print(df_summary)\n",
    "\n",
    "# Save the summary table as CSV\n",
    "df_summary.to_csv('pythonver_summary.csv')\n"
   ]
  },
  {
   "cell_type": "markdown",
   "id": "92968e1c",
   "metadata": {},
   "source": [
    "# Correlation Matrix"
   ]
  },
  {
   "cell_type": "code",
   "execution_count": 6,
   "id": "b62b5479",
   "metadata": {},
   "outputs": [
    {
     "name": "stdout",
     "output_type": "stream",
     "text": [
      "           testscr       str    el_pct  meal_pct  calw_pct\n",
      "testscr   1.000000 -0.226363 -0.644124 -0.868772 -0.626853\n",
      "str      -0.226363  1.000000  0.187642  0.135203  0.018276\n",
      "el_pct   -0.644124  0.187642  1.000000  0.653061  0.319576\n",
      "meal_pct -0.868772  0.135203  0.653061  1.000000  0.739422\n",
      "calw_pct -0.626853  0.018276  0.319576  0.739422  1.000000\n"
     ]
    }
   ],
   "source": [
    "corr_matrix = df[['testscr','str','el_pct','meal_pct','calw_pct']].corr(method='pearson')\n",
    "# Show the matrix\n",
    "print(corr_matrix)\n",
    "# Save the matrix to csv\n",
    "corr_matrix.to_csv('pythonver_corr_matrix.csv')"
   ]
  },
  {
   "cell_type": "markdown",
   "id": "097405a0",
   "metadata": {},
   "source": [
    "# Regression Models\n",
    "We're using `statsmodels` package"
   ]
  },
  {
   "cell_type": "code",
   "execution_count": 7,
   "id": "12b2c956",
   "metadata": {},
   "outputs": [],
   "source": [
    "import statsmodels.formula.api as smf"
   ]
  },
  {
   "cell_type": "markdown",
   "id": "0938dded",
   "metadata": {},
   "source": [
    "## Regression 1\n",
    "### Model 1_1\n",
    "Student-teacher ratio as regressor. Use `HC1` heteroscedascity robust covariance."
   ]
  },
  {
   "cell_type": "code",
   "execution_count": 8,
   "id": "f2d8050e",
   "metadata": {
    "scrolled": false
   },
   "outputs": [
    {
     "name": "stdout",
     "output_type": "stream",
     "text": [
      "                            OLS Regression Results                            \n",
      "==============================================================================\n",
      "Dep. Variable:                testscr   R-squared:                       0.051\n",
      "Model:                            OLS   Adj. R-squared:                  0.049\n",
      "Method:                 Least Squares   F-statistic:                     19.26\n",
      "Date:                Fri, 17 Sep 2021   Prob (F-statistic):           1.45e-05\n",
      "Time:                        21:24:26   Log-Likelihood:                -1822.2\n",
      "No. Observations:                 420   AIC:                             3648.\n",
      "Df Residuals:                     418   BIC:                             3657.\n",
      "Df Model:                           1                                         \n",
      "Covariance Type:                  HC1                                         \n",
      "==============================================================================\n",
      "                 coef    std err          z      P>|z|      [0.025      0.975]\n",
      "------------------------------------------------------------------------------\n",
      "Intercept    698.9330     10.364     67.436      0.000     678.619     719.247\n",
      "str           -2.2798      0.519     -4.389      0.000      -3.298      -1.262\n",
      "==============================================================================\n",
      "Omnibus:                        5.390   Durbin-Watson:                   0.129\n",
      "Prob(Omnibus):                  0.068   Jarque-Bera (JB):                3.589\n",
      "Skew:                          -0.012   Prob(JB):                        0.166\n",
      "Kurtosis:                       2.548   Cond. No.                         207.\n",
      "==============================================================================\n",
      "\n",
      "Warnings:\n",
      "[1] Standard Errors are heteroscedasticity robust (HC1)\n"
     ]
    }
   ],
   "source": [
    "# Fit regression model\n",
    "model1_1 = smf.ols(\"testscr ~ str\", data=df).fit(cov_type='HC1')\n",
    "\n",
    "# Inspect the results\n",
    "print(model1_1.summary())"
   ]
  },
  {
   "cell_type": "markdown",
   "id": "86430f05",
   "metadata": {},
   "source": [
    "Printing just the coefficients"
   ]
  },
  {
   "cell_type": "code",
   "execution_count": 9,
   "id": "fa71f829",
   "metadata": {},
   "outputs": [
    {
     "name": "stdout",
     "output_type": "stream",
     "text": [
      "Intercept    698.932952\n",
      "str           -2.279808\n",
      "dtype: float64\n"
     ]
    }
   ],
   "source": [
    "print(model1_1.params)"
   ]
  },
  {
   "cell_type": "markdown",
   "id": "516093ae",
   "metadata": {},
   "source": [
    "Printing the standard error of parameter"
   ]
  },
  {
   "cell_type": "code",
   "execution_count": 10,
   "id": "2e03476f",
   "metadata": {},
   "outputs": [
    {
     "name": "stdout",
     "output_type": "stream",
     "text": [
      "Intercept    10.364360\n",
      "str           0.519489\n",
      "dtype: float64\n"
     ]
    }
   ],
   "source": [
    "print(model1_1.bse)"
   ]
  },
  {
   "cell_type": "markdown",
   "id": "e874a18f",
   "metadata": {},
   "source": [
    "RMSE of residual can be computed from mean square error of residual"
   ]
  },
  {
   "cell_type": "code",
   "execution_count": 12,
   "id": "54b17698",
   "metadata": {},
   "outputs": [
    {
     "name": "stdout",
     "output_type": "stream",
     "text": [
      "345.25235311665574\n",
      "18.58096749678702\n"
     ]
    }
   ],
   "source": [
    "import math\n",
    "print(model1_1.mse_resid)\n",
    "print(math.sqrt(model1_1.mse_resid))"
   ]
  },
  {
   "cell_type": "markdown",
   "id": "40fc64de",
   "metadata": {},
   "source": [
    "**Note:** If needed, you can access underlying tables of `summary()` using `summary().tables` attribute. It is a list of `statsmodels.iolib.table.SimpleTable` objects, which has methods to, for example, render their content as HTML. Example:"
   ]
  },
  {
   "cell_type": "code",
   "execution_count": 9,
   "id": "c6b571a8",
   "metadata": {},
   "outputs": [
    {
     "name": "stdout",
     "output_type": "stream",
     "text": [
      "[<class 'statsmodels.iolib.table.SimpleTable'>, <class 'statsmodels.iolib.table.SimpleTable'>, <class 'statsmodels.iolib.table.SimpleTable'>]\n",
      "<table class=\"simpletable\">\n",
      "<caption>OLS Regression Results</caption>\n",
      "<tr>\n",
      "  <th>Dep. Variable:</th>         <td>testscr</td>     <th>  R-squared:         </th> <td>   0.051</td>\n",
      "</tr>\n",
      "<tr>\n",
      "  <th>Model:</th>                   <td>OLS</td>       <th>  Adj. R-squared:    </th> <td>   0.049</td>\n",
      "</tr>\n",
      "<tr>\n",
      "  <th>Method:</th>             <td>Least Squares</td>  <th>  F-statistic:       </th> <td>   19.26</td>\n",
      "</tr>\n",
      "<tr>\n",
      "  <th>Date:</th>             <td>Fri, 17 Sep 2021</td> <th>  Prob (F-statistic):</th> <td>1.45e-05</td>\n",
      "</tr>\n",
      "<tr>\n",
      "  <th>Time:</th>                 <td>19:53:38</td>     <th>  Log-Likelihood:    </th> <td> -1822.2</td>\n",
      "</tr>\n",
      "<tr>\n",
      "  <th>No. Observations:</th>      <td>   420</td>      <th>  AIC:               </th> <td>   3648.</td>\n",
      "</tr>\n",
      "<tr>\n",
      "  <th>Df Residuals:</th>          <td>   418</td>      <th>  BIC:               </th> <td>   3657.</td>\n",
      "</tr>\n",
      "<tr>\n",
      "  <th>Df Model:</th>              <td>     1</td>      <th>                     </th>     <td> </td>   \n",
      "</tr>\n",
      "<tr>\n",
      "  <th>Covariance Type:</th>         <td>HC1</td>       <th>                     </th>     <td> </td>   \n",
      "</tr>\n",
      "</table>\n"
     ]
    }
   ],
   "source": [
    "summary_tables = model1_1.summary().tables\n",
    "print(summary_tables)\n",
    "print(summary_tables[0].as_html())"
   ]
  },
  {
   "cell_type": "markdown",
   "id": "65379f1c",
   "metadata": {},
   "source": [
    "### Model 1_2\n",
    "Student-teacher ratio and percentage of English learners as regressors"
   ]
  },
  {
   "cell_type": "code",
   "execution_count": 29,
   "id": "f9563c02",
   "metadata": {},
   "outputs": [
    {
     "name": "stdout",
     "output_type": "stream",
     "text": [
      "                            OLS Regression Results                            \n",
      "==============================================================================\n",
      "Dep. Variable:                testscr   R-squared:                       0.426\n",
      "Model:                            OLS   Adj. R-squared:                  0.424\n",
      "Method:                 Least Squares   F-statistic:                     223.8\n",
      "Date:                Fri, 17 Sep 2021   Prob (F-statistic):           9.28e-67\n",
      "Time:                        19:54:55   Log-Likelihood:                -1716.6\n",
      "No. Observations:                 420   AIC:                             3439.\n",
      "Df Residuals:                     417   BIC:                             3451.\n",
      "Df Model:                           2                                         \n",
      "Covariance Type:                  HC1                                         \n",
      "==============================================================================\n",
      "                 coef    std err          z      P>|z|      [0.025      0.975]\n",
      "------------------------------------------------------------------------------\n",
      "Intercept    686.0322      8.728     78.599      0.000     668.925     703.139\n",
      "str           -1.1013      0.433     -2.544      0.011      -1.950      -0.253\n",
      "el_pct        -0.6498      0.031    -20.939      0.000      -0.711      -0.589\n",
      "==============================================================================\n",
      "Omnibus:                        0.631   Durbin-Watson:                   0.686\n",
      "Prob(Omnibus):                  0.729   Jarque-Bera (JB):                0.550\n",
      "Skew:                           0.088   Prob(JB):                        0.760\n",
      "Kurtosis:                       3.024   Cond. No.                         301.\n",
      "==============================================================================\n",
      "\n",
      "Warnings:\n",
      "[1] Standard Errors are heteroscedasticity robust (HC1)\n",
      "\n",
      "Printing just the coefficients\n",
      "Intercept    686.032249\n",
      "str           -1.101296\n",
      "el_pct        -0.649777\n",
      "dtype: float64\n",
      "\n",
      "Printing the standard errors\n",
      "Intercept    8.728224\n",
      "str          0.432847\n",
      "el_pct       0.031032\n",
      "dtype: float64\n"
     ]
    }
   ],
   "source": [
    "model1_2 = smf.ols(\"testscr ~ str + el_pct\", data=df).fit(cov_type='HC1')\n",
    "print(model1_2.summary())\n",
    "print(\"\\nPrinting just the coefficients\")\n",
    "print(model1_2.params)\n",
    "print(\"\\nPrinting the standard errors\")\n",
    "print(model1_2.bse)"
   ]
  },
  {
   "cell_type": "markdown",
   "id": "3be91604",
   "metadata": {},
   "source": [
    "### Model 1_3"
   ]
  },
  {
   "cell_type": "code",
   "execution_count": 11,
   "id": "e4d04c0b",
   "metadata": {},
   "outputs": [
    {
     "name": "stdout",
     "output_type": "stream",
     "text": [
      "                            OLS Regression Results                            \n",
      "==============================================================================\n",
      "Dep. Variable:                testscr   R-squared:                       0.775\n",
      "Model:                            OLS   Adj. R-squared:                  0.773\n",
      "Method:                 Least Squares   F-statistic:                     453.5\n",
      "Date:                Fri, 17 Sep 2021   Prob (F-statistic):          1.05e-130\n",
      "Time:                        19:53:38   Log-Likelihood:                -1520.5\n",
      "No. Observations:                 420   AIC:                             3049.\n",
      "Df Residuals:                     416   BIC:                             3065.\n",
      "Df Model:                           3                                         \n",
      "Covariance Type:                  HC1                                         \n",
      "==============================================================================\n",
      "                 coef    std err          z      P>|z|      [0.025      0.975]\n",
      "------------------------------------------------------------------------------\n",
      "Intercept    700.1500      5.568    125.735      0.000     689.236     711.064\n",
      "str           -0.9983      0.270     -3.696      0.000      -1.528      -0.469\n",
      "el_pct        -0.1216      0.033     -3.703      0.000      -0.186      -0.057\n",
      "meal_pct      -0.5473      0.024    -22.705      0.000      -0.595      -0.500\n",
      "==============================================================================\n",
      "Omnibus:                        6.998   Durbin-Watson:                   1.438\n",
      "Prob(Omnibus):                  0.030   Jarque-Bera (JB):               10.626\n",
      "Skew:                          -0.024   Prob(JB):                      0.00493\n",
      "Kurtosis:                       3.778   Cond. No.                         621.\n",
      "==============================================================================\n",
      "\n",
      "Warnings:\n",
      "[1] Standard Errors are heteroscedasticity robust (HC1)\n"
     ]
    }
   ],
   "source": [
    "model1_3 = smf.ols(\"testscr ~ str+el_pct+meal_pct\", data=df).fit(cov_type='HC1')\n",
    "print(model1_3.summary())"
   ]
  },
  {
   "cell_type": "markdown",
   "id": "1c5f1710",
   "metadata": {},
   "source": [
    "### Model 1_4"
   ]
  },
  {
   "cell_type": "code",
   "execution_count": 12,
   "id": "b224b339",
   "metadata": {},
   "outputs": [
    {
     "name": "stdout",
     "output_type": "stream",
     "text": [
      "                            OLS Regression Results                            \n",
      "==============================================================================\n",
      "Dep. Variable:                testscr   R-squared:                       0.629\n",
      "Model:                            OLS   Adj. R-squared:                  0.626\n",
      "Method:                 Least Squares   F-statistic:                     170.4\n",
      "Date:                Fri, 17 Sep 2021   Prob (F-statistic):           4.93e-72\n",
      "Time:                        19:53:38   Log-Likelihood:                -1625.3\n",
      "No. Observations:                 420   AIC:                             3259.\n",
      "Df Residuals:                     416   BIC:                             3275.\n",
      "Df Model:                           3                                         \n",
      "Covariance Type:                  HC1                                         \n",
      "==============================================================================\n",
      "                 coef    std err          z      P>|z|      [0.025      0.975]\n",
      "------------------------------------------------------------------------------\n",
      "Intercept    697.9987      6.920    100.861      0.000     684.435     711.562\n",
      "str           -1.3080      0.339     -3.857      0.000      -1.973      -0.643\n",
      "el_pct        -0.4876      0.030    -16.484      0.000      -0.546      -0.430\n",
      "calw_pct      -0.7900      0.068    -11.676      0.000      -0.923      -0.657\n",
      "==============================================================================\n",
      "Omnibus:                        4.267   Durbin-Watson:                   1.094\n",
      "Prob(Omnibus):                  0.118   Jarque-Bera (JB):                5.337\n",
      "Skew:                          -0.027   Prob(JB):                       0.0694\n",
      "Kurtosis:                       3.550   Cond. No.                         338.\n",
      "==============================================================================\n",
      "\n",
      "Warnings:\n",
      "[1] Standard Errors are heteroscedasticity robust (HC1)\n"
     ]
    }
   ],
   "source": [
    "model1_4 = smf.ols(\"testscr ~ str+el_pct+calw_pct\", data=df).fit(cov_type='HC1')\n",
    "print(model1_4.summary())"
   ]
  },
  {
   "cell_type": "markdown",
   "id": "d56720bb",
   "metadata": {},
   "source": [
    "### Model 1_5"
   ]
  },
  {
   "cell_type": "code",
   "execution_count": 13,
   "id": "71cbc6f2",
   "metadata": {},
   "outputs": [
    {
     "name": "stdout",
     "output_type": "stream",
     "text": [
      "                            OLS Regression Results                            \n",
      "==============================================================================\n",
      "Dep. Variable:                testscr   R-squared:                       0.775\n",
      "Model:                            OLS   Adj. R-squared:                  0.773\n",
      "Method:                 Least Squares   F-statistic:                     361.7\n",
      "Date:                Fri, 17 Sep 2021   Prob (F-statistic):          8.86e-134\n",
      "Time:                        19:53:38   Log-Likelihood:                -1520.2\n",
      "No. Observations:                 420   AIC:                             3050.\n",
      "Df Residuals:                     415   BIC:                             3071.\n",
      "Df Model:                           4                                         \n",
      "Covariance Type:                  HC1                                         \n",
      "==============================================================================\n",
      "                 coef    std err          z      P>|z|      [0.025      0.975]\n",
      "------------------------------------------------------------------------------\n",
      "Intercept    700.3918      5.537    126.483      0.000     689.539     711.245\n",
      "str           -1.0144      0.269     -3.773      0.000      -1.541      -0.487\n",
      "el_pct        -0.1298      0.036     -3.581      0.000      -0.201      -0.059\n",
      "meal_pct      -0.5286      0.038    -13.868      0.000      -0.603      -0.454\n",
      "calw_pct      -0.0479      0.059     -0.816      0.415      -0.163       0.067\n",
      "==============================================================================\n",
      "Omnibus:                        6.583   Durbin-Watson:                   1.430\n",
      "Prob(Omnibus):                  0.037   Jarque-Bera (JB):                9.701\n",
      "Skew:                          -0.032   Prob(JB):                      0.00782\n",
      "Kurtosis:                       3.742   Cond. No.                         644.\n",
      "==============================================================================\n",
      "\n",
      "Warnings:\n",
      "[1] Standard Errors are heteroscedasticity robust (HC1)\n"
     ]
    }
   ],
   "source": [
    "model1_5 = smf.ols(\"testscr ~ str+el_pct+meal_pct+calw_pct\", data=df).fit(cov_type='HC1')\n",
    "print(model1_5.summary())"
   ]
  },
  {
   "cell_type": "markdown",
   "id": "074cea07",
   "metadata": {},
   "source": [
    "### Generating the combined table and writing the output to HTML\n",
    "Here we use the `stargazer` package from `https://pypi.org/project/stargazer/`, which is the Python implementation of R's `stargazer`.\n",
    "\n",
    "This creates the equivalent of Table 7.1 in the lecture slides."
   ]
  },
  {
   "cell_type": "code",
   "execution_count": 14,
   "id": "8d0e111d",
   "metadata": {},
   "outputs": [],
   "source": [
    "from stargazer.stargazer import Stargazer\n",
    "stargazer = Stargazer([model1_1,model1_2,model1_3,model1_4,model1_5])\n",
    "stargazer.significant_digits(2)\n",
    "# Adjust the covariate order. The names can be seen in `stargazer2.cov_names`\n",
    "stargazer.covariate_order(['str','el_pct','meal_pct','calw_pct','Intercept'])\n",
    "\n",
    "# Uncomment to see the resulting HTML\n",
    "# print(stargazer.render_html())\n",
    "\n",
    "with open('pythonver_reg_1.html','w') as f_out:\n",
    "    f_out.write(stargazer.render_html())"
   ]
  },
  {
   "cell_type": "markdown",
   "id": "8961f4e9",
   "metadata": {},
   "source": [
    "## Regression 2\n",
    "### Adding new features to the dataframe"
   ]
  },
  {
   "cell_type": "code",
   "execution_count": 15,
   "id": "af848e54",
   "metadata": {},
   "outputs": [
    {
     "name": "stdout",
     "output_type": "stream",
     "text": [
      "   Observation Number  dist_cod   county                         district  \\\n",
      "0                   1     75119  Alameda               Sunol Glen Unified   \n",
      "1                   2     61499    Butte             Manzanita Elementary   \n",
      "2                   3     61549    Butte      Thermalito Union Elementary   \n",
      "3                   4     61457    Butte  Golden Feather Union Elementary   \n",
      "4                   5     61523    Butte         Palermo Union Elementary   \n",
      "\n",
      "  gr_span  enrl_tot   teachers   calw_pct   meal_pct  computer  ...  \\\n",
      "0   KK-08       195  10.900000   0.510200   2.040800        67  ...   \n",
      "1   KK-08       240  11.150000  15.416700  47.916698       101  ...   \n",
      "2   KK-08      1550  82.900002  55.032299  76.322601       169  ...   \n",
      "3   KK-08       243  14.000000  36.475399  77.049202        85  ...   \n",
      "4   KK-08      1335  71.500000  33.108601  78.427002       171  ...   \n",
      "\n",
      "      expn_stu        str     avginc     el_pct    read_scr    math_scr  \\\n",
      "0  6384.911133  17.889910  22.690001   0.000000  691.599976  690.000000   \n",
      "1  5099.380859  21.524664   9.824000   4.583333  660.500000  661.900024   \n",
      "2  5501.954590  18.697226   8.978000  30.000002  636.299988  650.900024   \n",
      "3  7101.831055  17.357143   8.978000   0.000000  651.900024  643.500000   \n",
      "4  5235.987793  18.671329   9.080333  13.857677  641.799988  639.900024   \n",
      "\n",
      "   avginclog  HiEL        str2         str3  \n",
      "0   3.121924     0  320.048871  5725.645410  \n",
      "1   2.284828     0  463.311157  9972.616949  \n",
      "2   2.194777     1  349.586244  6536.292861  \n",
      "3   2.194777     0  301.270427  5229.194006  \n",
      "4   2.206111     1  348.618545  6509.171727  \n",
      "\n",
      "[5 rows x 22 columns]\n"
     ]
    }
   ],
   "source": [
    "import math\n",
    "\n",
    "df['avginclog'] = [math.log(x) for x in df['avginc']]\n",
    "df['HiEL'] = (df['el_pct'] > 10).astype(int)\n",
    "df['str2'] = [x**2 for x in df['str']]\n",
    "df['str3'] = [x**3 for x in df['str']]\n",
    "\n",
    "print(df.head(5))"
   ]
  },
  {
   "cell_type": "markdown",
   "id": "9f4ad41d",
   "metadata": {},
   "source": [
    "### Model 2_1"
   ]
  },
  {
   "cell_type": "code",
   "execution_count": 16,
   "id": "d6e29b4d",
   "metadata": {},
   "outputs": [
    {
     "name": "stdout",
     "output_type": "stream",
     "text": [
      "                            OLS Regression Results                            \n",
      "==============================================================================\n",
      "Dep. Variable:                testscr   R-squared:                       0.775\n",
      "Model:                            OLS   Adj. R-squared:                  0.773\n",
      "Method:                 Least Squares   F-statistic:                     453.5\n",
      "Date:                Fri, 17 Sep 2021   Prob (F-statistic):          1.05e-130\n",
      "Time:                        19:53:38   Log-Likelihood:                -1520.5\n",
      "No. Observations:                 420   AIC:                             3049.\n",
      "Df Residuals:                     416   BIC:                             3065.\n",
      "Df Model:                           3                                         \n",
      "Covariance Type:                  HC1                                         \n",
      "==============================================================================\n",
      "                 coef    std err          z      P>|z|      [0.025      0.975]\n",
      "------------------------------------------------------------------------------\n",
      "Intercept    700.1500      5.568    125.735      0.000     689.236     711.064\n",
      "str           -0.9983      0.270     -3.696      0.000      -1.528      -0.469\n",
      "el_pct        -0.1216      0.033     -3.703      0.000      -0.186      -0.057\n",
      "meal_pct      -0.5473      0.024    -22.705      0.000      -0.595      -0.500\n",
      "==============================================================================\n",
      "Omnibus:                        6.998   Durbin-Watson:                   1.438\n",
      "Prob(Omnibus):                  0.030   Jarque-Bera (JB):               10.626\n",
      "Skew:                          -0.024   Prob(JB):                      0.00493\n",
      "Kurtosis:                       3.778   Cond. No.                         621.\n",
      "==============================================================================\n",
      "\n",
      "Warnings:\n",
      "[1] Standard Errors are heteroscedasticity robust (HC1)\n"
     ]
    }
   ],
   "source": [
    "model2_1 = smf.ols(\"testscr ~ str + el_pct + meal_pct\", data=df).fit(cov_type='HC1')\n",
    "print(model2_1.summary())"
   ]
  },
  {
   "cell_type": "markdown",
   "id": "ff19e8c4",
   "metadata": {},
   "source": [
    "### Model 2_2\n",
    "Using the additonal feature `avignclog`"
   ]
  },
  {
   "cell_type": "code",
   "execution_count": 17,
   "id": "8cc033d7",
   "metadata": {},
   "outputs": [
    {
     "name": "stdout",
     "output_type": "stream",
     "text": [
      "                            OLS Regression Results                            \n",
      "==============================================================================\n",
      "Dep. Variable:                testscr   R-squared:                       0.796\n",
      "Model:                            OLS   Adj. R-squared:                  0.794\n",
      "Method:                 Least Squares   F-statistic:                     417.2\n",
      "Date:                Fri, 17 Sep 2021   Prob (F-statistic):          6.40e-144\n",
      "Time:                        19:53:38   Log-Likelihood:                -1499.3\n",
      "No. Observations:                 420   AIC:                             3009.\n",
      "Df Residuals:                     415   BIC:                             3029.\n",
      "Df Model:                           4                                         \n",
      "Covariance Type:                  HC1                                         \n",
      "==============================================================================\n",
      "                 coef    std err          z      P>|z|      [0.025      0.975]\n",
      "------------------------------------------------------------------------------\n",
      "Intercept    658.5520      8.642     76.208      0.000     641.615     675.489\n",
      "str           -0.7343      0.257     -2.860      0.004      -1.238      -0.231\n",
      "el_pct        -0.1755      0.034     -5.215      0.000      -0.242      -0.110\n",
      "meal_pct      -0.3982      0.033    -12.004      0.000      -0.463      -0.333\n",
      "avginclog     11.5690      1.819      6.361      0.000       8.004      15.134\n",
      "==============================================================================\n",
      "Omnibus:                        7.598   Durbin-Watson:                   1.522\n",
      "Prob(Omnibus):                  0.022   Jarque-Bera (JB):               11.949\n",
      "Skew:                           0.025   Prob(JB):                      0.00254\n",
      "Kurtosis:                       3.825   Cond. No.                     1.09e+03\n",
      "==============================================================================\n",
      "\n",
      "Warnings:\n",
      "[1] Standard Errors are heteroscedasticity robust (HC1)\n",
      "[2] The condition number is large, 1.09e+03. This might indicate that there are\n",
      "strong multicollinearity or other numerical problems.\n"
     ]
    }
   ],
   "source": [
    "model2_2 = smf.ols(\"testscr ~ str + el_pct + meal_pct + avginclog\", data=df).fit(cov_type='HC1')\n",
    "print(model2_2.summary())"
   ]
  },
  {
   "cell_type": "markdown",
   "id": "4606e380",
   "metadata": {},
   "source": [
    "### Model 2_3"
   ]
  },
  {
   "cell_type": "code",
   "execution_count": 18,
   "id": "59fdedd3",
   "metadata": {},
   "outputs": [
    {
     "name": "stdout",
     "output_type": "stream",
     "text": [
      "                            OLS Regression Results                            \n",
      "==============================================================================\n",
      "Dep. Variable:                testscr   R-squared:                       0.310\n",
      "Model:                            OLS   Adj. R-squared:                  0.305\n",
      "Method:                 Least Squares   F-statistic:                     63.67\n",
      "Date:                Fri, 17 Sep 2021   Prob (F-statistic):           6.74e-34\n",
      "Time:                        19:53:39   Log-Likelihood:                -1755.3\n",
      "No. Observations:                 420   AIC:                             3519.\n",
      "Df Residuals:                     416   BIC:                             3535.\n",
      "Df Model:                           3                                         \n",
      "Covariance Type:                  HC1                                         \n",
      "==============================================================================\n",
      "                 coef    std err          z      P>|z|      [0.025      0.975]\n",
      "------------------------------------------------------------------------------\n",
      "Intercept    682.2458     11.868     57.487      0.000     658.985     705.506\n",
      "str           -0.9685      0.589     -1.644      0.100      -2.123       0.186\n",
      "HiEL           5.6391     19.515      0.289      0.773     -32.609      43.887\n",
      "str:HiEL      -1.2766      0.967     -1.320      0.187      -3.172       0.619\n",
      "==============================================================================\n",
      "Omnibus:                        4.924   Durbin-Watson:                   0.585\n",
      "Prob(Omnibus):                  0.085   Jarque-Bera (JB):                5.019\n",
      "Skew:                           0.252   Prob(JB):                       0.0813\n",
      "Kurtosis:                       2.821   Cond. No.                         527.\n",
      "==============================================================================\n",
      "\n",
      "Warnings:\n",
      "[1] Standard Errors are heteroscedasticity robust (HC1)\n"
     ]
    }
   ],
   "source": [
    "model2_3 = smf.ols(\"testscr ~ str*HiEL\", data=df).fit(cov_type='HC1')\n",
    "print(model2_3.summary())"
   ]
  },
  {
   "cell_type": "markdown",
   "id": "928a8a8c",
   "metadata": {},
   "source": [
    "### Model 2_4"
   ]
  },
  {
   "cell_type": "code",
   "execution_count": 19,
   "id": "ff10d5e3",
   "metadata": {},
   "outputs": [
    {
     "name": "stdout",
     "output_type": "stream",
     "text": [
      "                            OLS Regression Results                            \n",
      "==============================================================================\n",
      "Dep. Variable:                testscr   R-squared:                       0.797\n",
      "Model:                            OLS   Adj. R-squared:                  0.795\n",
      "Method:                 Least Squares   F-statistic:                     335.8\n",
      "Date:                Fri, 17 Sep 2021   Prob (F-statistic):          3.32e-143\n",
      "Time:                        19:53:39   Log-Likelihood:                -1498.1\n",
      "No. Observations:                 420   AIC:                             3008.\n",
      "Df Residuals:                     414   BIC:                             3032.\n",
      "Df Model:                           5                                         \n",
      "Covariance Type:                  HC1                                         \n",
      "==============================================================================\n",
      "                 coef    std err          z      P>|z|      [0.025      0.975]\n",
      "------------------------------------------------------------------------------\n",
      "Intercept    653.6661      9.869     66.232      0.000     634.322     673.010\n",
      "str           -0.5310      0.342     -1.553      0.120      -1.201       0.139\n",
      "HiEL           5.4982      9.795      0.561      0.575     -13.700      24.696\n",
      "str:HiEL      -0.5777      0.496     -1.165      0.244      -1.549       0.394\n",
      "meal_pct      -0.4114      0.029    -14.270      0.000      -0.468      -0.355\n",
      "avginclog     12.1245      1.798      6.745      0.000       8.601      15.648\n",
      "==============================================================================\n",
      "Omnibus:                        7.141   Durbin-Watson:                   1.530\n",
      "Prob(Omnibus):                  0.028   Jarque-Bera (JB):               10.989\n",
      "Skew:                           0.001   Prob(JB):                      0.00411\n",
      "Kurtosis:                       3.792   Cond. No.                     1.47e+03\n",
      "==============================================================================\n",
      "\n",
      "Warnings:\n",
      "[1] Standard Errors are heteroscedasticity robust (HC1)\n",
      "[2] The condition number is large, 1.47e+03. This might indicate that there are\n",
      "strong multicollinearity or other numerical problems.\n"
     ]
    }
   ],
   "source": [
    "model2_4 = smf.ols(\"testscr ~ str*HiEL + meal_pct + avginclog\", data=df).fit(cov_type='HC1')\n",
    "print(model2_4.summary())"
   ]
  },
  {
   "cell_type": "markdown",
   "id": "ea7a426d",
   "metadata": {},
   "source": [
    "### Model 2_5"
   ]
  },
  {
   "cell_type": "code",
   "execution_count": 20,
   "id": "8eaa5b93",
   "metadata": {},
   "outputs": [
    {
     "name": "stdout",
     "output_type": "stream",
     "text": [
      "                            OLS Regression Results                            \n",
      "==============================================================================\n",
      "Dep. Variable:                testscr   R-squared:                       0.801\n",
      "Model:                            OLS   Adj. R-squared:                  0.798\n",
      "Method:                 Least Squares   F-statistic:                     281.1\n",
      "Date:                Fri, 17 Sep 2021   Prob (F-statistic):          2.03e-142\n",
      "Time:                        19:53:39   Log-Likelihood:                -1494.2\n",
      "No. Observations:                 420   AIC:                             3002.\n",
      "Df Residuals:                     413   BIC:                             3031.\n",
      "Df Model:                           6                                         \n",
      "Covariance Type:                  HC1                                         \n",
      "==============================================================================\n",
      "                 coef    std err          z      P>|z|      [0.025      0.975]\n",
      "------------------------------------------------------------------------------\n",
      "Intercept    252.0509    163.634      1.540      0.123     -68.666     572.768\n",
      "str           64.3389     24.861      2.588      0.010      15.613     113.065\n",
      "str2          -3.4239      1.250     -2.739      0.006      -5.874      -0.974\n",
      "str3           0.0593      0.021      2.856      0.004       0.019       0.100\n",
      "HiEL          -5.4740      1.034     -5.295      0.000      -7.500      -3.448\n",
      "meal_pct      -0.4201      0.029    -14.726      0.000      -0.476      -0.364\n",
      "avginclog     11.7482      1.771      6.632      0.000       8.276      15.220\n",
      "==============================================================================\n",
      "Omnibus:                       10.188   Durbin-Watson:                   1.540\n",
      "Prob(Omnibus):                  0.006   Jarque-Bera (JB):               18.307\n",
      "Skew:                          -0.038   Prob(JB):                     0.000106\n",
      "Kurtosis:                       4.020   Cond. No.                     3.26e+06\n",
      "==============================================================================\n",
      "\n",
      "Warnings:\n",
      "[1] Standard Errors are heteroscedasticity robust (HC1)\n",
      "[2] The condition number is large, 3.26e+06. This might indicate that there are\n",
      "strong multicollinearity or other numerical problems.\n"
     ]
    }
   ],
   "source": [
    "model2_5 = smf.ols(\"testscr ~ str + str2 + str3 + HiEL + meal_pct + avginclog\", data=df).fit(cov_type='HC1')\n",
    "print(model2_5.summary())"
   ]
  },
  {
   "cell_type": "markdown",
   "id": "5f2ea763",
   "metadata": {},
   "source": [
    "### Model 2_6"
   ]
  },
  {
   "cell_type": "code",
   "execution_count": 21,
   "id": "5c592959",
   "metadata": {},
   "outputs": [
    {
     "name": "stdout",
     "output_type": "stream",
     "text": [
      "                            OLS Regression Results                            \n",
      "==============================================================================\n",
      "Dep. Variable:                testscr   R-squared:                       0.803\n",
      "Model:                            OLS   Adj. R-squared:                  0.799\n",
      "Method:                 Least Squares   F-statistic:                     199.8\n",
      "Date:                Fri, 17 Sep 2021   Prob (F-statistic):          6.56e-144\n",
      "Time:                        19:53:39   Log-Likelihood:                -1492.1\n",
      "No. Observations:                 420   AIC:                             3004.\n",
      "Df Residuals:                     410   BIC:                             3045.\n",
      "Df Model:                           9                                         \n",
      "Covariance Type:                  HC1                                         \n",
      "==============================================================================\n",
      "                 coef    std err          z      P>|z|      [0.025      0.975]\n",
      "------------------------------------------------------------------------------\n",
      "Intercept    122.3542    185.519      0.660      0.510    -241.256     485.964\n",
      "str           83.7015     28.497      2.937      0.003      27.849     139.554\n",
      "HiEL         816.0745    327.674      2.491      0.013     173.846    1458.303\n",
      "str:HiEL    -123.2818     50.213     -2.455      0.014    -221.697     -24.867\n",
      "str2          -4.3808      1.441     -3.040      0.002      -7.205      -1.556\n",
      "str2:HiEL      6.1211      2.542      2.408      0.016       1.139      11.103\n",
      "str3           0.0749      0.024      3.121      0.002       0.028       0.122\n",
      "str3:HiEL     -0.1006      0.043     -2.366      0.018      -0.184      -0.017\n",
      "meal_pct      -0.4178      0.029    -14.556      0.000      -0.474      -0.362\n",
      "avginclog     11.8004      1.778      6.637      0.000       8.316      15.285\n",
      "==============================================================================\n",
      "Omnibus:                       10.766   Durbin-Watson:                   1.535\n",
      "Prob(Omnibus):                  0.005   Jarque-Bera (JB):               19.764\n",
      "Skew:                          -0.050   Prob(JB):                     5.11e-05\n",
      "Kurtosis:                       4.058   Cond. No.                     9.96e+06\n",
      "==============================================================================\n",
      "\n",
      "Warnings:\n",
      "[1] Standard Errors are heteroscedasticity robust (HC1)\n",
      "[2] The condition number is large, 9.96e+06. This might indicate that there are\n",
      "strong multicollinearity or other numerical problems.\n"
     ]
    }
   ],
   "source": [
    "model2_6 = smf.ols(\"testscr ~ str*HiEL + str2*HiEL + str3*HiEL + meal_pct + avginclog\", data=df).fit(cov_type='HC1')\n",
    "print(model2_6.summary())"
   ]
  },
  {
   "cell_type": "markdown",
   "id": "2e529ed6",
   "metadata": {},
   "source": [
    "### Model 2_7"
   ]
  },
  {
   "cell_type": "code",
   "execution_count": 22,
   "id": "65561c3b",
   "metadata": {},
   "outputs": [
    {
     "name": "stdout",
     "output_type": "stream",
     "text": [
      "                            OLS Regression Results                            \n",
      "==============================================================================\n",
      "Dep. Variable:                testscr   R-squared:                       0.801\n",
      "Model:                            OLS   Adj. R-squared:                  0.798\n",
      "Method:                 Least Squares   F-statistic:                     280.8\n",
      "Date:                Fri, 17 Sep 2021   Prob (F-statistic):          2.47e-142\n",
      "Time:                        19:53:39   Log-Likelihood:                -1494.6\n",
      "No. Observations:                 420   AIC:                             3003.\n",
      "Df Residuals:                     413   BIC:                             3031.\n",
      "Df Model:                           6                                         \n",
      "Covariance Type:                  HC1                                         \n",
      "==============================================================================\n",
      "                 coef    std err          z      P>|z|      [0.025      0.975]\n",
      "------------------------------------------------------------------------------\n",
      "Intercept    244.8090    165.722      1.477      0.140     -80.001     569.619\n",
      "str           65.2850     25.259      2.585      0.010      15.779     114.791\n",
      "str2          -3.4655      1.271     -2.727      0.006      -5.956      -0.975\n",
      "str3           0.0599      0.021      2.836      0.005       0.019       0.101\n",
      "el_pct        -0.1657      0.034     -4.821      0.000      -0.233      -0.098\n",
      "meal_pct      -0.4024      0.033    -12.097      0.000      -0.468      -0.337\n",
      "avginclog     11.5089      1.806      6.371      0.000       7.968      15.049\n",
      "==============================================================================\n",
      "Omnibus:                        9.742   Durbin-Watson:                   1.524\n",
      "Prob(Omnibus):                  0.008   Jarque-Bera (JB):               17.285\n",
      "Skew:                           0.008   Prob(JB):                     0.000176\n",
      "Kurtosis:                       3.994   Cond. No.                     3.26e+06\n",
      "==============================================================================\n",
      "\n",
      "Warnings:\n",
      "[1] Standard Errors are heteroscedasticity robust (HC1)\n",
      "[2] The condition number is large, 3.26e+06. This might indicate that there are\n",
      "strong multicollinearity or other numerical problems.\n"
     ]
    }
   ],
   "source": [
    "model2_7 = smf.ols(\"testscr ~ str + str2 + str3 + el_pct + meal_pct + avginclog\", data=df).fit(cov_type='HC1')\n",
    "print(model2_7.summary())"
   ]
  },
  {
   "cell_type": "markdown",
   "id": "fc1aa523",
   "metadata": {},
   "source": [
    "### Generating the combined table and writing the output to HTML\n",
    "As with the previous section, we use `stargazer`\n",
    "This produces the equivalent of Table 8.3 in the lecture slides"
   ]
  },
  {
   "cell_type": "code",
   "execution_count": 23,
   "id": "4b5d31ac",
   "metadata": {},
   "outputs": [],
   "source": [
    "stargazer2 = Stargazer([model2_1,model2_2,model2_3,model2_4,model2_5,model2_6,model2_7])\n",
    "stargazer2.significant_digits(2)\n",
    "# Adjust the covariate order. The names can be seen in `stargazer2.cov_names`\n",
    "stargazer2.covariate_order(['str','el_pct','str2','str3','meal_pct','avginclog',\n",
    "                           'HiEL','str:HiEL','str2:HiEL','str3:HiEL','Intercept'])\n",
    "\n",
    "with open('pythonver_reg_2.html','w') as f_out:\n",
    "    f_out.write(stargazer2.render_html())"
   ]
  },
  {
   "cell_type": "markdown",
   "id": "8108d587",
   "metadata": {},
   "source": [
    "## Hypothesis testing\n",
    "### Example using `model2_6`\n",
    "Test for all `str` variables  and interactions = 0"
   ]
  },
  {
   "cell_type": "code",
   "execution_count": 24,
   "id": "63df97f8",
   "metadata": {},
   "outputs": [
    {
     "name": "stdout",
     "output_type": "stream",
     "text": [
      "<F test: F=array([[4.96166765]]), p=6.415828313393217e-05, df_denom=410, df_num=6>\n"
     ]
    }
   ],
   "source": [
    "hypotheses = '(str:HiEL = 0), (str2:HiEL = 0), (str3:HiEL = 0), (str=0),(str2=0),(str3=0)'\n",
    "f_test1 = model2_6.f_test(hypotheses)\n",
    "print(f_test1)"
   ]
  },
  {
   "cell_type": "markdown",
   "id": "da8635fe",
   "metadata": {},
   "source": [
    "Test STR2=0, STR3=0"
   ]
  },
  {
   "cell_type": "code",
   "execution_count": 25,
   "id": "d1bd3223",
   "metadata": {},
   "outputs": [
    {
     "name": "stdout",
     "output_type": "stream",
     "text": [
      "<F test: F=array([[5.80629655]]), p=0.003261428780200182, df_denom=410, df_num=2>\n"
     ]
    }
   ],
   "source": [
    "hypotheses = '(str2=0),(str3=0)'\n",
    "f_test2 = model2_6.f_test(hypotheses)\n",
    "print(f_test2)"
   ]
  },
  {
   "cell_type": "code",
   "execution_count": null,
   "id": "1df27fdb",
   "metadata": {},
   "outputs": [],
   "source": []
  }
 ],
 "metadata": {
  "kernelspec": {
   "display_name": "Python 3",
   "language": "python",
   "name": "python3"
  },
  "language_info": {
   "codemirror_mode": {
    "name": "ipython",
    "version": 3
   },
   "file_extension": ".py",
   "mimetype": "text/x-python",
   "name": "python",
   "nbconvert_exporter": "python",
   "pygments_lexer": "ipython3",
   "version": "3.8.3"
  }
 },
 "nbformat": 4,
 "nbformat_minor": 5
}
